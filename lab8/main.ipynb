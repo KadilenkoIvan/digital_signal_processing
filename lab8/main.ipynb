{
 "cells": [
  {
   "cell_type": "code",
   "execution_count": 2,
   "metadata": {},
   "outputs": [],
   "source": [
    "import numpy as np\n",
    "import matplotlib.pyplot as plt\n",
    "from scipy.integrate import quad\n",
    "from scipy.fft import fft, ifft, fftfreq\n",
    "import math\n",
    "import scipy.integrate as integrate\n",
    "import random"
   ]
  },
  {
   "cell_type": "markdown",
   "metadata": {},
   "source": [
    "# 1. "
   ]
  },
  {
   "cell_type": "code",
   "execution_count": 3,
   "metadata": {},
   "outputs": [],
   "source": [
    "h = math.pi / 30 # шаг\n",
    "a = 0 # левая граница\n",
    "b = 1 # правая граница\n",
    "lam = 1 / 2 # коэфф перед ядром интегрального уравнения\n",
    "K = lambda x, s: x * s # ядро интегрального уравнения\n",
    "f = lambda x: np.ones_like(x) # свободный член интегрального уравнения\n",
    "y_true = lambda x1: np.ones_like(x1) # точное решение интегрального уравнения"
   ]
  },
  {
   "cell_type": "code",
   "execution_count": 4,
   "metadata": {},
   "outputs": [],
   "source": [
    "# def Quadrature_method(K, f, h, x):\n",
    "#     n = len(x)\n",
    "#     wt = 1 / 2\n",
    "#     wj = 1\n",
    "#     A = np.zeros((n, n))\n",
    "#     B = np.zeros((n, 1))\n",
    "#     for i in range(n):\n",
    "#         A[i][0] = -h * wt * K(x[i], x[0])\n",
    "\n",
    "#         for j in range(1, n-1):\n",
    "#             A[i][j]= -h * wj * K(x[i], x[j])\n",
    "\n",
    "#         A[i][n-1]= -h * wt * K(x[i], x[n-1])\n",
    "#         A[i][i]= A[i][i] + 1\n",
    "#         B[i][0] = f(x[i])\n",
    "        \n",
    "#     y = np.linalg.solve(A, B)\n",
    "#     return y\n",
    "def Quadrature_method():\n",
    "    #f = lambda x: 5/6*x\n",
    "    f = lambda x: np.ones_like(x)\n",
    "    Lambda = 1/2\n",
    "    K = lambda x, s: x * s\n",
    "\n",
    "    h = 0.05\n",
    "    x1 = np.arange(0, h+1, h).reshape(-1, 1) # Переводим в вектор-столбец\n",
    "    n = len(x1)\n",
    "\n",
    "    # Заполнение матрицы X\n",
    "    X = np.eye(n)  \n",
    "    for j in range(n):\n",
    "        weight = 1/2 if j == 0 or j == n-1 else 1 \n",
    "        for i in range(n):\n",
    "            X[i, j] -= h * Lambda * weight * K(x1[i][0], x1[j][0])\n",
    "    Y = f(x1)\n",
    "    print(Y)\n",
    "    # Решение системы уравнений\n",
    "    approx1 = np.linalg.solve(X, Y)\n",
    "    return x1, approx1"
   ]
  },
  {
   "cell_type": "code",
   "execution_count": 5,
   "metadata": {},
   "outputs": [
    {
     "name": "stdout",
     "output_type": "stream",
     "text": [
      "[[1.]\n",
      " [1.]\n",
      " [1.]\n",
      " [1.]\n",
      " [1.]\n",
      " [1.]\n",
      " [1.]\n",
      " [1.]\n",
      " [1.]\n",
      " [1.]\n",
      " [1.]\n",
      " [1.]\n",
      " [1.]\n",
      " [1.]\n",
      " [1.]\n",
      " [1.]\n",
      " [1.]\n",
      " [1.]\n",
      " [1.]\n",
      " [1.]\n",
      " [1.]]\n",
      "[[0.  ]\n",
      " [0.05]\n",
      " [0.1 ]\n",
      " [0.15]\n",
      " [0.2 ]\n",
      " [0.25]\n",
      " [0.3 ]\n",
      " [0.35]\n",
      " [0.4 ]\n",
      " [0.45]\n",
      " [0.5 ]\n",
      " [0.55]\n",
      " [0.6 ]\n",
      " [0.65]\n",
      " [0.7 ]\n",
      " [0.75]\n",
      " [0.8 ]\n",
      " [0.85]\n",
      " [0.9 ]\n",
      " [0.95]\n",
      " [1.  ]]\n",
      "[[1.        ]\n",
      " [1.01500375]\n",
      " [1.0300075 ]\n",
      " [1.04501125]\n",
      " [1.060015  ]\n",
      " [1.07501875]\n",
      " [1.09002251]\n",
      " [1.10502626]\n",
      " [1.12003001]\n",
      " [1.13503376]\n",
      " [1.15003751]\n",
      " [1.16504126]\n",
      " [1.18004501]\n",
      " [1.19504876]\n",
      " [1.21005251]\n",
      " [1.22505626]\n",
      " [1.24006002]\n",
      " [1.25506377]\n",
      " [1.27006752]\n",
      " [1.28507127]\n",
      " [1.30007502]]\n"
     ]
    },
    {
     "name": "stderr",
     "output_type": "stream",
     "text": [
      "C:\\Users\\Ivan K\\AppData\\Local\\Temp\\ipykernel_16512\\2215818598.py:1: RuntimeWarning: invalid value encountered in divide\n",
      "  y_true = lambda x1: x1 / x1 # точное решение интегрального уравнения\n"
     ]
    }
   ],
   "source": [
    "y_true = lambda x1: x1 / x1 # точное решение интегрального уравнения\n",
    "x = np.arange(a, b, h)\n",
    "n = len(x)\n",
    "y_true = np.array(y_true(x)) # точное решение\n",
    "x_approx, y_approx = Quadrature_method() # найденное решение\n",
    "print(x_approx)\n",
    "print(y_approx)"
   ]
  },
  {
   "cell_type": "code",
   "execution_count": 6,
   "metadata": {},
   "outputs": [
    {
     "data": {
      "image/png": "[encoded data removed]",
      "text/plain": [
       "<Figure size 600x600 with 1 Axes>"
      ]
     },
     "metadata": {},
     "output_type": "display_data"
    }
   ],
   "source": [
    "plt.figure(figsize = (6, 6))\n",
    "plt.plot(x, y_true, '-b', linewidth=2, label='точное решение') # график точного решения\n",
    "plt.plot(x_approx, y_approx, '-or', label='приближение')\n",
    "plt.title('Метод квадратур')\n",
    "plt.xlabel('x')\n",
    "plt.ylabel('y')\n",
    "plt.legend()\n",
    "plt.xlim(0, 1)\n",
    "plt.ylim(0, 2)\n",
    "plt.show()"
   ]
  },
  {
   "cell_type": "markdown",
   "metadata": {},
   "source": [
    "# 2."
   ]
  },
  {
   "cell_type": "code",
   "execution_count": 7,
   "metadata": {},
   "outputs": [],
   "source": [
    "a = 0 # левая граница\n",
    "b = 2.0 # правая граница\n",
    "h = 0.05 # шаг\n",
    "Lambda = -1\n",
    "\n",
    "alpha = lambda t: [t**2, t**3, t**4, t**5]\n",
    "beta = lambda t: [t, 1/2 * t**2, 1/6 * t**3, 1/24 * t**4]\n",
    "f = lambda t: np.exp(t) - 1\n",
    "y_exact = lambda t: t / t # точное решение"
   ]
  },
  {
   "cell_type": "code",
   "execution_count": 8,
   "metadata": {},
   "outputs": [],
   "source": [
    "import scipy.integrate as integrate\n",
    "import math\n",
    "\n",
    "# Границы интервала\n",
    "a = 0\n",
    "b = 1\n",
    "h = 0.05\n",
    "Lambda = -1\n",
    "\n",
    "# Генерация сетки\n",
    "x = np.arange(a, b, h)\n",
    "x = x.reshape(len(x), 1)\n",
    "n = len(x)\n",
    "\n",
    "# Задание функций\n",
    "N = 20\n",
    "alpha = lambda t: [t**(i+1) for i in range(1, N+1)]\n",
    "beta = lambda t: [t**(i) / math.factorial(i) for i in range(1, N+1)] \n",
    "\n",
    "f = lambda t: np.exp(t) - t\n",
    "y_exact = lambda t: 1  # Точное решение\n",
    "\n",
    "# Функции для интегрирования\n",
    "def bfun(x, i, f):\n",
    "    return beta(x)[i] * f(x)\n",
    "\n",
    "def Aijfun(x, i, j):\n",
    "    return beta(x)[i] * alpha(x)[j]\n",
    "\n",
    "# Вычисление точного решения\n",
    "y = []\n",
    "for i in range(n):\n",
    "    y.append([])  # создаем пустую строку\n",
    "    y[i].append(y_exact(x[i]))\n",
    "y = np.array(y).reshape(n, 1)  # Точное решение\n",
    "\n",
    "# Решение задачи методом вырожденных ядер\n",
    "def Solve(f, t, Lambda):\n",
    "    m = len(alpha(0))\n",
    "    M = np.zeros((m, m))\n",
    "    r = np.zeros((m, 1))\n",
    "\n",
    "    for i in range(m):\n",
    "        r[i] = integrate.quad(bfun, a, b, args=(i, f))[0]\n",
    "        for j in range(m):\n",
    "            M[i][j] = -Lambda * integrate.quad(Aijfun, a, b, args=(i, j))[0]\n",
    "\n",
    "    for i in range(m):\n",
    "        M[i][i] += 1\n",
    "\n",
    "    c = np.linalg.solve(M, r)\n",
    "    return Lambda * (c[0] * alpha(t)[0] + c[1] * alpha(t)[1]) + f(t)\n",
    "\n",
    "y_approx = Solve(f, x, Lambda)"
   ]
  },
  {
   "cell_type": "code",
   "execution_count": 11,
   "metadata": {},
   "outputs": [
    {
     "data": {
      "image/png": "[encoded data removed]",
      "text/plain": [
       "<Figure size 1000x500 with 1 Axes>"
      ]
     },
     "metadata": {},
     "output_type": "display_data"
    }
   ],
   "source": [
    "x = np.arange (a, b, h)\n",
    "x = x.reshape(len(x), 1)\n",
    "n = len(x)\n",
    "\n",
    "y = []\n",
    "for i in range(n):\n",
    "    y.append([])  # создаем пустую строку\n",
    "    y[i].append(y_exact(x[i]))\n",
    "y = np.array(y).reshape(n, 1)\n",
    "\n",
    "y_approx = Solve(f, x, Lambda)\n",
    "plt.figure(figsize=(10, 5))\n",
    "plt.plot(x, y, '-b', linewidth=2, label='точное решение') # график точного решения\n",
    "plt.plot(x, y_approx, '-or', label='приближение') # график найденного решения\n",
    "plt.title('Метод квадратур')\n",
    "plt.xlabel('x')\n",
    "plt.xlim(0, 1)\n",
    "plt.ylim(-0.5, 2)\n",
    "plt.ylabel('y')\n",
    "plt.legend()\n",
    "plt.show()"
   ]
  },
  {
   "cell_type": "code",
   "execution_count": null,
   "metadata": {},
   "outputs": [],
   "source": []
  }
 ],
 "metadata": {
  "kernelspec": {
   "display_name": "Python 3",
   "language": "python",
   "name": "python3"
  },
  "language_info": {
   "codemirror_mode": {
    "name": "ipython",
    "version": 3
   },
   "file_extension": ".py",
   "mimetype": "text/x-python",
   "name": "python",
   "nbconvert_exporter": "python",
   "pygments_lexer": "ipython3",
   "version": "3.12.3"
  }
 },
 "nbformat": 4,
 "nbformat_minor": 2
}
